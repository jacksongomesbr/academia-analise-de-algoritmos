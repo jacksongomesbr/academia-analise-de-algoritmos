{
 "metadata": {
  "name": "",
  "signature": "sha256:cec6a9bb41c4a80b5f535a0efbbb1bbb1bb5745b39fcbf9bbca60984c104e11c"
 },
 "nbformat": 3,
 "nbformat_minor": 0,
 "worksheets": [
  {
   "cells": [
    {
     "cell_type": "heading",
     "level": 1,
     "metadata": {},
     "source": [
      "Introdu\u00e7\u00e3o"
     ]
    },
    {
     "cell_type": "markdown",
     "metadata": {},
     "source": [
      "O entendimento da complexidade de algoritmos \u00e9 uma tarefa chave no desenvolvimento de sistemas e algoritmos capazes n\u00e3o apenas de fornecer a sa\u00edda correta, mas de acordo com restri\u00e7\u00f5es impostas pelo contexto ou pelo dom\u00ednio. Para exemplificar esta afirma\u00e7\u00e3o, tomemos como exemplo um algoritmo que precisa encontrar um n\u00famero $n$ em um vetor $D$. O algoritmo deve retornar um par ($a$, $b$) onde: \n",
      "\n",
      "* $a$ : Um valor booleano indicando se o n\u00famero $n$ foi encontrado; e\n",
      "* $b$ : Um n\u00famero inteiro indicando a posi\u00e7\u00e3o de $n$ no vetor.\n",
      "\n",
      "Uma poss\u00edvel implementa\u00e7\u00e3o deste algoritmo \u00e9 a seguinte (em pseudo-c\u00f3digo).\n",
      "\n",
      "**Algoritmo 1.1:**"
     ]
    },
    {
     "cell_type": "markdown",
     "metadata": {},
     "source": [
      "```java\n",
      "int i = 0; \n",
      "foreach (d in D) {\n",
      "      if (d == n) {\n",
      "          return {True, d};\n",
      "      }\n",
      "      i++;\n",
      "}\n",
      "return {False, 0};\n",
      "```"
     ]
    },
    {
     "cell_type": "markdown",
     "metadata": {},
     "source": [
      "Chama-se **opera\u00e7\u00e3o fundamental** a opera\u00e7\u00e3o principal do algoritmo. Neste caso, digamos que a opera\u00e7\u00e3o fundamental \u00e9 a igualdade (compara\u00e7\u00e3o) da linha 3.\n",
      "\n",
      "\u00c9 poss\u00edvel perceber que a quantidade de **opera\u00e7\u00f5es fundamentais** varia conforme o tamanho de $D$ ($|D|$). Podemos analisar das seguintes formas:\n",
      "\n",
      "1. Considerando $n \\in D$:\n",
      "    1. Se $|D| = 1$, ent\u00e3o a opera\u00e7\u00e3o fundamental ser\u00e1 executada 1 vez; e\n",
      "    2. Se $|D| = 10$, ent\u00e3o a opera\u00e7\u00e3o fundamental ser\u00e1 executada, no m\u00e1ximo, 10 vezes. \n",
      "2. Considerando $n \\not\\in D$:\n",
      "    1. Independentemente $|D|$, a opera\u00e7\u00e3o fundamental ser\u00e1 executada $|D|$ vezes.\n",
      "    \n",
      "** Exerc\u00edcio 1.1:** Considerando as afirma\u00e7\u00f5es anteriores, qual a diferen\u00e7a entre $n$ estar no in\u00edcio ou no final de $D$? Demonstre e justifique a afirma\u00e7\u00e3o 1B.\n",
      "\n",
      "A an\u00e1lise destes casos e a representa\u00e7\u00e3o disso seguindo um formalismo \u00e9 o que chamamos **An\u00e1lise de Algoritmos**. Existem diversas formas de analisar algoritmos, ou a computa\u00e7\u00e3o deles, como considerar o tempo de execu\u00e7\u00e3o e o espa\u00e7o (a mem\u00f3ria necess\u00e1ria para a execu\u00e7\u00e3o do algoritmo). Neste curso estamos mais interessados na primeira forma, a an\u00e1lise do tempo de execu\u00e7\u00e3o. \n",
      "\n",
      "De modo geral, a an\u00e1lise do comportamento de algoritmos \u00e9 estudada pela **Complexidade de Algoritmos**. Portanto, **Complexidade de Algoritmos** \u00e9 a an\u00e1lise do esfor\u00e7o computacional (tempo ou mem\u00f3ria) necess\u00e1rio para executar um algoritmo.\n",
      "\n",
      "\u00c9 importante ter a no\u00e7\u00e3o de que, para um determinado problema, podem haver diversas implementa\u00e7\u00f5es.\n",
      "\n",
      "** Exerc\u00edcio 1.2:** Este exerc\u00edcio ser\u00e1 feito em grupo. Cada grupo deve escolher uma linguagem ou plataforma diferente (ex.: Java, C++, C#, Javascript, Python etc.). Seu programa dever\u00e1 ler um arquivo com o seguinte formato: \n",
      "\n",
      "* A primeira linha cont\u00e9m o n\u00famero $n$;\n",
      "* A segunda linha possum um n\u00famero inteiro que corresponde \u00e0 quantidade de n\u00fameros do conjunto $D$; e\n",
      "* Da terceira linha em diante, est\u00e3o os n\u00fameros do conjunto $D$.\n",
      "\n",
      "Ap\u00f3s ler o arquivo, seu programa deve procurar o n\u00famero $n$ no conjunto $D$ e gerar um arquivo texto contendo tr\u00eas n\u00fameros, um em cada linha:\n",
      "\n",
      "* A palavra True ou False, conforme a busca de $n$ em $D$;\n",
      "* Um n\u00famero inteiro que corresponde \u00e0 posi\u00e7\u00e3o de $n$ em $D$. Se $n \\not\\in D$, ent\u00e3o o valor pode ser $0$ (zero); e\n",
      "* Um n\u00famero real que corresponde ao tempo de execu\u00e7\u00e3o do programa.\n",
      "\n",
      "Para verificar corretitude do seu programa, voc\u00ea deve usar os tr\u00eas arquivos a seguir:\n",
      "\n",
      "1. [dataset-1-a.csv](dataset-1-a.csv)\n",
      "2. [dataset-1-b.csv](dataset-1-b.csv)\n",
      "3. [dataset-1-c.csv](dataset-1-c.csv)"
     ]
    },
    {
     "cell_type": "heading",
     "level": 2,
     "metadata": {},
     "source": [
      "Complexidade e Desempenho de Algoritmos"
     ]
    },
    {
     "cell_type": "markdown",
     "metadata": {},
     "source": [
      "Como voc\u00ea pode perceber, o tempo de execu\u00e7\u00e3o do algoritmo pode variar conforme quest\u00f5es como a plataforma de programa\u00e7\u00e3o e o ambiente de execu\u00e7\u00e3o (a m\u00e1quina, em si). \u00c9 importante entender que este formato n\u00e3o pode ser usado como ferramenta para uma an\u00e1lise mais criteriosa e geral de algoritmos. Ainda, podemos dizer que a execu\u00e7\u00e3o do algoritmo depende do conjunto de entradas e da sequ\u00eancia de opera\u00e7\u00f5es fundamentais necess\u00e1rias para o seu funcionamento. Portanto, vamos a alguns formalismos:\n",
      "\n",
      "* $D$ \u00e9 conjunto de dados de entrada do algoritmo; e\n",
      "* $E$ \u00e9 o conjunto de opera\u00e7\u00f5es fundamentais para o funcionamento do algoritmo.\n",
      "\n",
      "Assim, podemos definir um algoritmo como a fun\u00e7\u00e3o $a : D \\rightarrow E$.\n",
      "\n",
      "**Execu\u00e7\u00e3o** resulta a sequ\u00eancia de execu\u00e7\u00f5es de opera\u00e7\u00f5es fundamentais realizadas durante a execu\u00e7\u00e3o do algoritmo $a$. \u00c9 representada como $exec(a) : D \\rightarrow E$.\n",
      "\n",
      "**Custo** d\u00e1 o comprimento da sequ\u00eancia $e \\in E$. \u00c9 representado como $custo : E \\rightarrow \\mathbb{R}_+$. Ou seja, **custo** \u00e9 um real positivo que representa a quantidade de opera\u00e7\u00f5es fundamentais. Obviamente, quanto menor a quantidade de opera\u00e7\u00f5es, menor o custo.\n",
      "\n",
      "**Desempenho** d\u00e1 o custo (em termos das opera\u00e7\u00f5es fundamentais) da execu\u00e7\u00e3o de $a$ com a entrada $d \\in D$. \u00c9 representado como $desempenho(a, d) := custo( exec(a, d) )$. Isso nos permite analisar um algoritmo considerando as diversas entradas poss\u00edveis e, portanto, o desempenho de um algoritmo $a$ com uma entrada $d \\in D$ mede o custo da execu\u00e7\u00e3o do algoritmo sobre esta entrada.\n",
      "\n",
      "Se voc\u00ea preferir, tamb\u00e9m pode usar a nota\u00e7\u00e3o a seguir:\n",
      "\n",
      "* Algoritmo: $a(d) = e$. Ou seja, um algoritmo $a$ \u00e9 uma fun\u00e7\u00e3o que recebe uma entrada $d$ e resulta em uma sequ\u00eancia de opera\u00e7\u00f5es fundamentais $e$.\n",
      "\n",
      "\u00c9 importante perceber que o conceito de *desempenho* indica a quantidade de opera\u00e7\u00f5es fundamentais executadas pelo algoritmo quando a entrada \u00e9 $d$. Portanto, n\u00e3o se pode, necessariamente, julgar o algoritmo como melhor ou pior com base nesta quantiade. Um elemento \u00e9 o fator *tempo*. Considerando, por exemplo, dois algoritmos: $a_1$ e $a_2$. Ambos executam sobre a mesma entrada $d$. O algoritmo $a_1$ executa 10 opera\u00e7\u00f5es fundamentais em 1 segundo. O algoritmo $a_2$ executa a mesma quantidade de opera\u00e7\u00f5es em 0.5 segundos. Portanto, o conceito de *desempenho* visto at\u00e9 o momento \u00e9 dissociado do fator *tempo*. Mais detalhes sobre isso ser\u00e3o vistos posteriormente.\n",
      "\n",
      "**Exerc\u00edcio 1.3**: O desempenho de um algoritmo sempre cresce com o tamanho da entrada? Por qu\u00ea?\n",
      "\n",
      "**Exerc\u00edcio 1.4**: Considere o problema de encontrar o maior valor em um conjunto de dados. Conside, tamb\u00e9m, que haja diversos conjuntos de dados, em arquivos texto que cont\u00eam os elementos destes conjuntos, um em cada linha. Crie um programa que l\u00ea cada um dos conjuntos de dados a seguir, procura o maior valor e gera um arquivo de sa\u00edda contendo, em cada linha: o maior valor encontrado e o tempo de execu\u00e7\u00e3o do algoritmo. Depois de executar estes experimentos, lendo os arquivos de dados e encontrando o maior valor, plote os tempos de execu\u00e7\u00e3o um gr\u00e1fico que representa a evolu\u00e7\u00e3o do desempenho (a execu\u00e7\u00e3o do algoritmo conforme a entrada). O que se pode perceber? Comente.\n",
      "\n",
      "Os conjuntos de dados:\n",
      "\n",
      "* [dataset-2-a.csv](dataset-2-a.csv)\n",
      "* [dataset-2-b.csv](dataset-2-b.csv)\n",
      "* [dataset-2-c.csv](dataset-2-c.csv)\n",
      "* [dataset-2-d.csv](dataset-2-d.csv)\n",
      "* [dataset-2-e.csv](dataset-2-e.csv) ou sua vers\u00e3o compactada (com ~3,8MB): [dataset-2-e.rar](dataset-2-e.rar)"
     ]
    },
    {
     "cell_type": "heading",
     "level": 2,
     "metadata": {},
     "source": [
      "Complexidade de algoritmo"
     ]
    },
    {
     "cell_type": "markdown",
     "metadata": {},
     "source": [
      "Embora a fun\u00e7\u00e3o $complexidade()$ vista anteriormente seja \u00fatil como um crit\u00e9rio para se entender a complexidade de algoritmos, ela n\u00e3o \u00e9 suficiente. A an\u00e1lise do algoritmo 1.1 demonstrou justamente isso: a quantidade de opera\u00e7\u00f5es fundamentais varia conforme a entrada e, portanto, a no\u00e7\u00e3o atual de desempenho precisa ser complementada.\n",
      "\n",
      "A fun\u00e7\u00e3o **tamanho** \u00e9 definida como: $tamanho(d) = n$, com $d \\in D$. Esta fun\u00e7\u00e3o retorna $n$: o tamanho (a quantidade de elementos) da entrada $d$. \n",
      "\n",
      "No caso de a entrada ser uma lista, $tamanho(d)$ resulta na quantidade de elementos da lista. No caso de ser um grafo, a informa\u00e7\u00e3o pode ser composta pela quantidade de v\u00e9rtices e arestas.\n",
      "\n",
      "**Exerc\u00edcio 1.5:** Por que \u00e9 importante a utiliza\u00e7\u00e3o da fun\u00e7\u00e3o $tamanho()$ no estudo da complexidade de um algoritmo?\n",
      "\n",
      "Utilizando a fun\u00e7\u00e3o $tamanho(d)$, a fun\u00e7\u00e3o $desempenho(a, d)$ pode ser condensada na fun\u00e7\u00e3o **avalia**, definida como: $avalia(a, n)$ resulta em um n\u00famero real que representa uma medida de complexidade do algoritmo com base no tamanho da entrada. Este valor pode ser entendido como um valor m\u00e1ximo.\n",
      "\n",
      "Seguindo este racioc\u00ednio, a defini\u00e7\u00e3o de $avalia(a, n)$ envolve um conjunto: todos os desempenhos para entradas de tamanho $n$. Dado $n \\in N$, considere $D_n$ o conjunto das entradas como tamanho $n$:\n",
      "\n",
      "$D_n = \\{ d \\in D : tamanho(d) = n\\}$.\n",
      "\n",
      "No geral, o desempenho de um algoritmo depende [do tamanho] da entrada. Assim, \u00e9 razo\u00e1vel considerar o tamanho m\u00e1ximo e m\u00e9dio da entrada."
     ]
    },
    {
     "cell_type": "heading",
     "level": 3,
     "metadata": {},
     "source": [
      "Complexidade m\u00e9dia (ou esperada)"
     ]
    },
    {
     "cell_type": "markdown",
     "metadata": {},
     "source": [
      "Considere um algoritmo $a$ possa receber 100 entradas $d_j$ de tamanho 10 ($n = 10$). Cada entrada $d_j$ possui desempenho $r_j$. Assim, o desempenho esperado \u00e9 o valor m\u00e9dio dado por:\n",
      "\n",
      "$c_M(a, n) = avalia_M(a, n) = \\frac{r_1 + r_2 + ... + r_{100}}{100}$\n",
      "\n",
      "ou \n",
      "\n",
      "$avalia_M(a, n) = \\frac{desempenho(a, d_1) + desempenho(a, d_2) + ... + desempenho(a, d_{100})}{100}$.\n",
      "\n",
      "Em outras palavras, o desempenho esperado considera a m\u00e9dia esperada dos desempenhos do algoritmo. Neste caso, considera-se que cada uma das $d_j$ entradas possui a mesma probabilidade de ocorrer, ou seja, segue uma *distribui\u00e7\u00e3o uniforme*.\n",
      "\n",
      "De maneira geral, a *complexidade m\u00e9dia (ou esperada)* de um algoritmo \u00e9 dada por:\n",
      "\n",
      "$avalia_M(a, n) = \\sum_{d \\in D_n}{} (prob(d) \\times desempenho(a, d))$\n",
      "\n",
      "onde $prob(d)$ d\u00e1 a probabilidade de ocorrer a entrada $d$ no conjunto $D_n$.\n",
      "\n",
      "**Exerc\u00edcio 1.6**: Considere um algorimto $a$ cujo desempenho sobre cada entrada \u00e9 o tamanho da entrada. Determine sua complexidade m\u00e9dia $avalia_M(a, 50)$ considerando distribui\u00e7\u00e3o uniforme."
     ]
    },
    {
     "cell_type": "heading",
     "level": 3,
     "metadata": {},
     "source": [
      "Complexidade pessimista (pior caso)"
     ]
    },
    {
     "cell_type": "markdown",
     "metadata": {},
     "source": [
      "O algoritmo do **Exerc\u00edcio 1.6** possui uma caracter\u00edstia interessante: o desempenho do alogoritmo sobre cada entrada \u00e9 o tamanho da entrada. Assim, o seu pior desempenho sobre entradas com tamanho at\u00e9 20 ser\u00e1 20:\n",
      "\n",
      "$avalia(a, [1, 2, ..., 20]) =  {\\mathrm{max}} \\{1, 2, ..., 20\\} = 20$\n",
      "\n",
      "A *complexidade pessimista* de um algoritmo fornece o seu desempenho no pior caso (ou o pior desempenho que se pode esperar) e \u00e9 definida como:\n",
      "\n",
      "$avalia_P(a, n) = \\mathrm{max} \\frac{desempenho(a, d) \\in \\mathrm(R)}{d \\in D_n}$.\n",
      "\n",
      "Em outras palavras, a *complexidade pessimista* de um algoritmo $a$ \u00e9 o valor m\u00e1ximo de seus desempenhos sobre todas as entradas com tamanho $n$.\n",
      "\n",
      "**Exerc\u00edcio 1.7:** Considere o algoritmo abaixo:\n",
      "\n",
      "**Algoritmo 1.2**: encontrar o m\u00e1ximo valor na lista"
     ]
    },
    {
     "cell_type": "markdown",
     "metadata": {},
     "source": [
      "```java\n",
      "n = tamanho(lista);\n",
      "max = lista[1];\n",
      "for(i = 2; i < n; i++) {\n",
      "    if (max < lista[i]) {\n",
      "        max = lista[i];\n",
      "    }\n",
      "}\n",
      "return max;\n",
      "```"
     ]
    },
    {
     "cell_type": "markdown",
     "metadata": {},
     "source": [
      "Determine a *complexidade pessimista* $avalia_P(a, 20)$.\n",
      "\n",
      "**Exerc\u00edcio 1.8:** Como poderia ser definida a *complexidade otimista*? Discuta a sua utilidade.\n",
      "\n",
      "**Exerc\u00edcio 1.9:** Determine as complexidades m\u00e9dia e pessimista do **Algoritmo 1.1**."
     ]
    }
   ],
   "metadata": {}
  }
 ]
}