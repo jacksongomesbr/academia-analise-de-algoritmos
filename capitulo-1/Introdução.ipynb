{
 "metadata": {
  "name": "",
  "signature": "sha256:48392d57193f6854cf8455d1d364e15977a7d7f1f12d7716f9aeb089d5464d67"
 },
 "nbformat": 3,
 "nbformat_minor": 0,
 "worksheets": [
  {
   "cells": [
    {
     "cell_type": "heading",
     "level": 1,
     "metadata": {},
     "source": [
      "1. Introdu\u00e7\u00e3o"
     ]
    },
    {
     "cell_type": "markdown",
     "metadata": {},
     "source": [
      "O entendimento da complexidade de algoritmos \u00e9 uma tarefa chave no desenvolvimento de sistemas e algoritmos capazes n\u00e3o apenas de fornecer a sa\u00edda correta, mas de acordo com restri\u00e7\u00f5es impostas pelo contexto ou pelo dom\u00ednio. Para exemplificar esta afirma\u00e7\u00e3o, tomemos como exemplo um algoritmo que precisa encontrar um n\u00famero $n$ em um vetor $D$. O algoritmo deve retornar um par ($a$, $b$) onde: \n",
      "\n",
      "* $a$ : Um valor booleano indicando se o n\u00famero $n$ foi encontrado; e\n",
      "* $b$ : Um n\u00famero inteiro indicando a posi\u00e7\u00e3o de $n$ no vetor.\n",
      "\n",
      "Uma poss\u00edvel implementa\u00e7\u00e3o deste algoritmo \u00e9 a seguinte (em pseudo-c\u00f3digo):"
     ]
    },
    {
     "cell_type": "markdown",
     "metadata": {},
     "source": [
      "```java\n",
      "int i = 0; \n",
      "foreach (d in D) {\n",
      "      if (d == n) {\n",
      "          return {True, d};\n",
      "      }\n",
      "      i++;\n",
      "}\n",
      "return {False, 0};\n",
      "```"
     ]
    },
    {
     "cell_type": "markdown",
     "metadata": {},
     "source": [
      "Chama-se **opera\u00e7\u00e3o fundamental** a opera\u00e7\u00e3o principal do algoritmo. Neste caso, digamos que a opera\u00e7\u00e3o fundamental \u00e9 a igualdade (compara\u00e7\u00e3o) da linha 3.\n",
      "\n",
      "\u00c9 poss\u00edvel perceber que a quantidade de **opera\u00e7\u00f5es fundamentais** varia conforme o tamanho de $D$ ($|D|$). Podemos analisar das seguintes formas:\n",
      "\n",
      "1. Considerando $n \\in D$:\n",
      "    1. Se $|D| = 1$, ent\u00e3o a opera\u00e7\u00e3o fundamental ser\u00e1 executada 1 vez; e\n",
      "    2. Se $|D| = 10$, ent\u00e3o a opera\u00e7\u00e3o fundamental ser\u00e1 executada, no m\u00e1ximo, 10 vezes. \n",
      "2. Considerando $n \\ni D$:\n",
      "    1. Independentemente $|D|$, a opera\u00e7\u00e3o fundamental ser\u00e1 executada $|D|$ vezes.\n",
      "    \n",
      "** Exerc\u00edcio 1.1:** Considerando as afirma\u00e7\u00f5es anteriores, qual a diferen\u00e7a entre $n$ estar no in\u00edcio ou no final de $D$? Demonstre e justifique a afirma\u00e7\u00e3o 1B.\n",
      "\n",
      "A an\u00e1lise destes casos e a representa\u00e7\u00e3o disso seguindo um formalismo \u00e9 o que chamamos **An\u00e1lise de Algoritmos**. Existem diversas formas de analisar algoritmos, ou a computa\u00e7\u00e3o deles, como considerar o tempo de execu\u00e7\u00e3o e o espa\u00e7o (a mem\u00f3ria necess\u00e1ria para a execu\u00e7\u00e3o do algoritmo). Neste curso estamos mais interessados na primeira forma, a an\u00e1lise do tempo de execu\u00e7\u00e3o. \n",
      "\n",
      "De modo geral, a an\u00e1lise do comportamento de algoritmos \u00e9 estudada pela **Complexidade de Algoritmos**. Portanto, **Complexidade de Algoritmos** \u00e9 a an\u00e1lise do esfor\u00e7o computacional (tempo ou mem\u00f3ria) necess\u00e1rio para executar um algoritmo.\n",
      "\n",
      "\u00c9 importante ter a no\u00e7\u00e3o de que, para um determinado problema, podem haver diversas implementa\u00e7\u00f5es.\n",
      "\n",
      "** Exerc\u00edcio 1.2:** Este exerc\u00edcio ser\u00e1 feito em grupo. Cada grupo deve escolher uma linguagem ou plataforma diferente (ex.: Java, C++, C#, Javascript, Python etc.). Seu programa dever\u00e1 ler um arquivo com o seguinte formato: \n",
      "\n",
      "* A primeira linha cont\u00e9m o n\u00famero $n$;\n",
      "* A segunda linha possum um n\u00famero inteiro que corresponde \u00e0 quantidade de n\u00fameros do conjunto $D$; e\n",
      "* Da terceira linha em diante, est\u00e3o os n\u00fameros do conjunto $D$.\n",
      "\n",
      "Ap\u00f3s ler o arquivo, seu programa deve procurar o n\u00famero $n$ no conjunto $D$ e gerar um arquivo texto contendo tr\u00eas n\u00fameros, um em cada linha:\n",
      "\n",
      "* A palavra True ou False, conforme a busca de $n$ em $D$;\n",
      "* Um n\u00famero inteiro que corresponde \u00e0 posi\u00e7\u00e3o de $n$ em $D$. Se $n \\ni D$, ent\u00e3o o valor pode ser $0$ (zero); e\n",
      "* Um n\u00famero real que corresponde ao tempo de execu\u00e7\u00e3o do programa.\n",
      "\n",
      "Para verificar corretitude do seu programa, voc\u00ea deve usar os tr\u00eas arquivos a seguir:\n",
      "\n",
      "1. [dataset-1-a.csv](dataset-1-a.csv)\n",
      "2. [dataset-1-b.csv](dataset-1-b.csv)\n",
      "3. [dataset-1-c.csv](dataset-1-c.csv)"
     ]
    },
    {
     "cell_type": "heading",
     "level": 2,
     "metadata": {},
     "source": [
      "1.1 Complexidade e Desempenho de Algoritmos"
     ]
    },
    {
     "cell_type": "markdown",
     "metadata": {},
     "source": [
      "Como voc\u00ea pode perceber, o tempo de execu\u00e7\u00e3o do algoritmo pode variar conforme quest\u00f5es como a plataforma de programa\u00e7\u00e3o e o ambiente de execu\u00e7\u00e3o (a m\u00e1quina, em si). \u00c9 importante entender que este formato n\u00e3o pode ser usado como ferramenta para uma an\u00e1lise mais criteriosa e geral de algoritmos. Ainda, podemos dizer que a execu\u00e7\u00e3o do algoritmo depende do conjunto de entradas e da sequ\u00eancia de opera\u00e7\u00f5es fundamentais necess\u00e1rias para o seu funcionamento. Portanto, vamos a alguns formalismos:\n",
      "\n",
      "* $D$ \u00e9 conjunto de dados de entrada do algoritmo; e\n",
      "* $E$ \u00e9 o conjunto de opera\u00e7\u00f5es fundamentais para o funcionamento do algoritmo.\n",
      "\n",
      "Assim, podemos definir um algoritmo como a fun\u00e7\u00e3o $a : D \\rightarrow E$.\n",
      "\n",
      "**Execu\u00e7\u00e3o** resulta a sequ\u00eancia de execu\u00e7\u00f5es de opera\u00e7\u00f5es fundamentais realizadas durante a execu\u00e7\u00e3o do algoritmo $a$. \u00c9 representada como $exec[a] : D \\rightarrow E$.\n",
      "\n",
      "**Custo** d\u00e1 o comprimento da sequ\u00eancia $e \\in E$. \u00c9 representado como $custo : E \\rightarrow \\mathbb{R}_+$. Ou seja, **custo** \u00e9 um real positivo que representa a quantidade de opera\u00e7\u00f5es fundamentais. Obviamente, quanto menor a quantidade de opera\u00e7\u00f5es, menor o custo.\n",
      "\n",
      "**Desempenho** d\u00e1 o custo (em termos das opera\u00e7\u00f5es fundamentais) da execu\u00e7\u00e3o de $a$ com a entrada $d \\in D$. \u00c9 representado como $desempenho[a](d) := custo( exec[a](d) )$. Isso nos permite analisar um algoritmo considerando as diversas entradas poss\u00edveis e, portanto, o desempenho de um algoritmo $a$ com uma entrada $d \\in D$ mede o custo da execu\u00e7\u00e3o do algoritmo sobre esta entrada.\n",
      "\n",
      "Se voc\u00ea preferir, tamb\u00e9m pode usar a nota\u00e7\u00e3o a seguir:\n",
      "\n",
      "* Algoritmo: $a(d) = e$. Ou seja, um algoritmo $a$ \u00e9 uma fun\u00e7\u00e3o que recebe uma entrada $d$ e resulta em uma sequ\u00eancia de opera\u00e7\u00f5es fundamentais $e$.\n",
      "\n",
      "**Exerc\u00edcio 1.3**: O desempenho de um algoritmo sempre cresce com o tamanho da entrada? Por qu\u00ea?\n",
      "\n",
      "**Exerc\u00edcio 1.4**: Considere o problema de encontrar o maior valor em um conjunto de dados. Conside, tamb\u00e9m, que haja diversos conjuntos de dados, em arquivos texto que cont\u00eam os elementos destes conjuntos, um em cada linha. Crie um programa que l\u00ea cada um dos conjuntos de dados a seguir, procura o maior valor e gera um arquivo de sa\u00edda contendo, em cada linha: o maior valor encontrado e o tempo de execu\u00e7\u00e3o do algoritmo. Depois de executar estes experimentos, lendo os arquivos de dados e encontrando o maior valor, plote os tempos de execu\u00e7\u00e3o um gr\u00e1fico que representa a evolu\u00e7\u00e3o do desempenho (a execu\u00e7\u00e3o do algoritmo conforme a entrada). O que se pode perceber? Comente.\n",
      "\n",
      "Os conjuntos de dados:\n",
      "\n",
      "* [dataset-2-a.csv](dataset-2-a.csv)\n",
      "* [dataset-2-b.csv](dataset-2-b.csv)\n",
      "* [dataset-2-c.csv](dataset-2-c.csv)\n",
      "* [dataset-2-d.csv](dataset-2-d.csv)\n",
      "* [dataset-2-e.csv](dataset-2-e.csv) ou sua vers\u00e3o compactada (com ~3,8MB): [dataset-2-e.rar](dataset-2-e.rar)"
     ]
    },
    {
     "cell_type": "code",
     "collapsed": false,
     "input": [
      "import numpy, pandas\n",
      "dados = pandas.DataFrame(numpy.random.choice(range(100), 10, replace=False))\n",
      "dados.to_csv('dataset-1-a.csv', header=False, index=False)"
     ],
     "language": "python",
     "metadata": {},
     "outputs": [
      {
       "html": [
        "<div style=\"max-height:1000px;max-width:1500px;overflow:auto;\">\n",
        "<table border=\"1\" class=\"dataframe\">\n",
        "  <thead>\n",
        "    <tr style=\"text-align: right;\">\n",
        "      <th></th>\n",
        "      <th>0</th>\n",
        "    </tr>\n",
        "  </thead>\n",
        "  <tbody>\n",
        "    <tr>\n",
        "      <th>0</th>\n",
        "      <td> 92</td>\n",
        "    </tr>\n",
        "    <tr>\n",
        "      <th>1</th>\n",
        "      <td> 19</td>\n",
        "    </tr>\n",
        "    <tr>\n",
        "      <th>2</th>\n",
        "      <td> 63</td>\n",
        "    </tr>\n",
        "    <tr>\n",
        "      <th>3</th>\n",
        "      <td> 24</td>\n",
        "    </tr>\n",
        "    <tr>\n",
        "      <th>4</th>\n",
        "      <td> 54</td>\n",
        "    </tr>\n",
        "    <tr>\n",
        "      <th>5</th>\n",
        "      <td> 35</td>\n",
        "    </tr>\n",
        "    <tr>\n",
        "      <th>6</th>\n",
        "      <td> 84</td>\n",
        "    </tr>\n",
        "    <tr>\n",
        "      <th>7</th>\n",
        "      <td> 11</td>\n",
        "    </tr>\n",
        "    <tr>\n",
        "      <th>8</th>\n",
        "      <td> 75</td>\n",
        "    </tr>\n",
        "    <tr>\n",
        "      <th>9</th>\n",
        "      <td> 81</td>\n",
        "    </tr>\n",
        "  </tbody>\n",
        "</table>\n",
        "</div>"
       ],
       "metadata": {},
       "output_type": "pyout",
       "prompt_number": 3,
       "text": [
        "    0\n",
        "0  92\n",
        "1  19\n",
        "2  63\n",
        "3  24\n",
        "4  54\n",
        "5  35\n",
        "6  84\n",
        "7  11\n",
        "8  75\n",
        "9  81"
       ]
      }
     ],
     "prompt_number": 3
    },
    {
     "cell_type": "code",
     "collapsed": false,
     "input": [
      "[for x as dados.values]"
     ],
     "language": "python",
     "metadata": {},
     "outputs": [
      {
       "ename": "SyntaxError",
       "evalue": "invalid syntax (<ipython-input-10-12ab472063d4>, line 1)",
       "output_type": "pyerr",
       "traceback": [
        "\u001b[1;36m  File \u001b[1;32m\"<ipython-input-10-12ab472063d4>\"\u001b[1;36m, line \u001b[1;32m1\u001b[0m\n\u001b[1;33m    [for x as dados.values]\u001b[0m\n\u001b[1;37m       ^\u001b[0m\n\u001b[1;31mSyntaxError\u001b[0m\u001b[1;31m:\u001b[0m invalid syntax\n"
       ]
      }
     ],
     "prompt_number": 10
    }
   ],
   "metadata": {}
  }
 ]
}