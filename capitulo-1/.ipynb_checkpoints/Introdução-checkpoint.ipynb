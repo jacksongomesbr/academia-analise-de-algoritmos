{
 "metadata": {
  "name": "",
  "signature": "sha256:48392d57193f6854cf8455d1d364e15977a7d7f1f12d7716f9aeb089d5464d67"
 },
 "nbformat": 3,
 "nbformat_minor": 0,
 "worksheets": [
  {
   "cells": [
    {
     "cell_type": "heading",
     "level": 1,
     "metadata": {},
     "source": [
      "Introdu\u00e7\u00e3o"
     ]
    }
   ],
   "metadata": {}
  }
 ]
}