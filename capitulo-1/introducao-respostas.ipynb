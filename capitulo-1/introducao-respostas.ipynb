{
 "metadata": {
  "name": "",
  "signature": "sha256:13848b10a2146dd1cb2c53c8f8db2e9ce5f4fe91a332b3391bae1ca4ea5b3cd5"
 },
 "nbformat": 3,
 "nbformat_minor": 0,
 "worksheets": [
  {
   "cells": [
    {
     "cell_type": "heading",
     "level": 1,
     "metadata": {},
     "source": [
      "Respostas dos exerc\u00edcios da Introdu\u00e7\u00e3o"
     ]
    },
    {
     "cell_type": "markdown",
     "metadata": {},
     "source": [
      "**Exerc\u00edcio 1.6**: Considere um algorimto $a$ cujo desempenho sobre cada entrada \u00e9 o tamanho da entrada. Determine sua complexidade m\u00e9dia $avalia_M(a, 50)$ considerando distribui\u00e7\u00e3o uniforme.\n",
      "\n",
      "Se o desempenho sobre a entrada \u00e9 o tamanho da entrada, ent\u00e3o $desempenho(a,n) = n$. Assim, a complexidade m\u00e9dia $avalia_M(a, 50)$ \u00e9 definida como:\n",
      "\n",
      "\\begin{align*}\n",
      "avalia_M(a, 50) &= \\frac{desempenho(1) + desempenho(2) + ... + desempenho(n)}{n} \\\\\n",
      "                &= \\frac{1 + 2 + ... + n}{n} \\\\\n",
      "                &= \\frac{1 + 2 + ... + 50}{50} \\\\\n",
      "                &= \\frac{1275}{50} \\\\\n",
      "                &= 25.5\n",
      "\\end{align*}"
     ]
    },
    {
     "cell_type": "markdown",
     "metadata": {},
     "source": [
      "**Exerc\u00edcio 1.7:** Considere o algoritmo abaixo:\n",
      "\n",
      "**Algoritmo 1.2**: encontrar o m\u00e1ximo valor na lista"
     ]
    },
    {
     "cell_type": "markdown",
     "metadata": {},
     "source": [
      "```java\n",
      "n = tamanho(lista);\n",
      "max = lista[1];\n",
      "for(i = 2; i < n; i++) {\n",
      "    if (max < lista[i]) {\n",
      "        max = lista[i];\n",
      "    }\n",
      "}\n",
      "return max;\n",
      "```"
     ]
    },
    {
     "cell_type": "markdown",
     "metadata": {},
     "source": [
      "Determine a *complexidade pessimista* $avalia_P(a, 20)$.\n",
      "\n",
      "**Resposta**:\n",
      "\n",
      "Primeiro, \u00e9 necess\u00e1rio analisar o comportamento do algoritmo. Vamos considerar como opera\u00e7\u00e3o fundamental a desigualdade da linha 4 (``max < lista[i]``). Consideremos, tamb\u00e9m, que $n$ representa o tamanho da lista.\n",
      "\n",
      "- Para $n = 1$, o algoritmo n\u00e3o faz verifica\u00e7\u00e3o\n",
      "- Para $n = 2$, o algoritmo n\u00e3o faz verifica\u00e7\u00e3o\n",
      "\n",
      "Logo, \u00e9 poss\u00edvel perceber um erro no algoritmo, pois para $n = 2$, ou seja, para uma lista com 2 valores, o maior deles ser\u00e1 sempre o primeiro. Consideremos, ent\u00e3o, a possibilidade de realizar uma corre\u00e7\u00e3o no algoritmo, na terceira linha: ``for(i = 2; i <= n; i++)``. Assim, a an\u00e1lise passa a ser:\n",
      "\n",
      "- Para $n = 1$, o algoritmo n\u00e3o faz verifica\u00e7\u00e3o\n",
      "- Para $n = 2$, o algoritmo faz 1 verifica\u00e7\u00f5es\n",
      "- Para $n = 3$, o algoritmo faz 2 verifica\u00e7\u00f5es\n",
      "- Para $n$, o algoritmo faz $n - 1$ verifica\u00e7\u00f5es\n",
      "\n",
      "Assim, por exemplo, $desempenho(a, 1) = 0$, $desempenho(a, 2) = 1$ e $desempenho(a, n) = n - 1$.\n",
      "\n",
      "A complexidade pessimista \u00e9 definida como:\n",
      "\n",
      "$avalia_P(a, n) = \\mathrm{max} \\{desempenho(a, d) \\in \\mathrm(R) | d \\in D_n\\}$.\n",
      "\n",
      "Ou seja, deseja-se encontrar o m\u00e1ximo valor de desempenho para entradas de tamanho $n$.\n",
      "\n",
      "Assim, $avalia_P(a, 20)$ \u00e9 definida como:\n",
      "\n",
      "\\begin{align*}\n",
      "avalia_P(a, 20) &= \\mathrm{max} \\{desempenho(a, 1), desempenho(a, 2), desempenho(a, 3), ..., desempenho(a, 20)\\} \\\\\n",
      "                &= \\mathrm{max} \\{0, 1, 2, ..., 19\\} \\\\\n",
      "                &= 19\n",
      "\\end{align*}"
     ]
    }
   ],
   "metadata": {}
  }
 ]
}