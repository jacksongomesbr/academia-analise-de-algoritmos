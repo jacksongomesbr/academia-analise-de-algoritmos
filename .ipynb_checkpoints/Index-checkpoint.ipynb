{
 "metadata": {
  "name": "",
  "signature": "sha256:de4920e83bb2f99d7cd86b98b884593b8a7bc1a3f784710dd2cd700045eb6336"
 },
 "nbformat": 3,
 "nbformat_minor": 0,
 "worksheets": [
  {
   "cells": [
    {
     "cell_type": "markdown",
     "metadata": {},
     "source": [
      "## Complexidade de algoritmos\n",
      "\n",
      "Complexidade de um algoritmo reflete o esfor\u00e7o computacional requerido para execut\u00e1-lo."
     ]
    }
   ],
   "metadata": {}
  }
 ]
}