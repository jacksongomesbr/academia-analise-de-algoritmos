{
 "cells": [
  {
   "cell_type": "markdown",
   "metadata": {},
   "source": [
    "# Complexidade de Algoritmos\n",
    "\n",
    "Este material é baseado no livro \"Complexidade de Algoritmos\", de Laira Vieira Toscani e Paulo A. S. Veloso, da série Livros Didáticos Informática UFRGS, publicado pela editora. \n",
    "\n",
    "[Capítulo 1: Introdução e conceitos básicos](capitulo-1/introducao.ipynb)\n",
    "\n",
    "[Capítulo 2: Propriedades das principais estruturas de algoritmos](capitulo-2/capitulo-2.ipynb)\n",
    "\n",
    "[Capítulo 3: Algoritmos de ordenação e busca](capitulo-3/analise-algoritmos-ordenacao-e-busca.ipynb)"
   ]
  }
 ],
 "metadata": {
  "kernelspec": {
   "display_name": "Python 2",
   "language": "python",
   "name": "python2"
  },
  "language_info": {
   "codemirror_mode": {
    "name": "ipython",
    "version": 2
   },
   "file_extension": ".py",
   "mimetype": "text/x-python",
   "name": "python",
   "nbconvert_exporter": "python",
   "pygments_lexer": "ipython2",
   "version": "2.7.8"
  }
 },
 "nbformat": 4,
 "nbformat_minor": 0
}
