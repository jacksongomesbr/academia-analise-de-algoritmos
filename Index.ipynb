{
 "metadata": {
  "name": "",
  "signature": "sha256:f97a2476e7b007ada5484c1273e4846fb1e0a9960b72754dd6c6b31df37d9e72"
 },
 "nbformat": 3,
 "nbformat_minor": 0,
 "worksheets": [
  {
   "cells": [
    {
     "cell_type": "heading",
     "level": 1,
     "metadata": {},
     "source": [
      "Complexidade de Algoritmos"
     ]
    },
    {
     "cell_type": "markdown",
     "metadata": {},
     "source": [
      "Complexidade de um algoritmo reflete o esfor\u00e7o computacional requerido para execut\u00e1-lo."
     ]
    },
    {
     "cell_type": "code",
     "collapsed": false,
     "input": [
      "%%latex\n",
      "$$c = 1 + 2$$"
     ],
     "language": "python",
     "metadata": {},
     "outputs": [
      {
       "latex": [
        "$$c = 1 + 2$$"
       ],
       "metadata": {},
       "output_type": "display_data",
       "text": [
        "<IPython.core.display.Latex at 0x31b87b0>"
       ]
      }
     ],
     "prompt_number": 3
    }
   ],
   "metadata": {}
  }
 ]
}