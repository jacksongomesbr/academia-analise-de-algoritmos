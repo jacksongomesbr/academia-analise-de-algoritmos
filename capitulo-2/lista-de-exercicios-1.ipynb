{
 "cells": [
  {
   "cell_type": "markdown",
   "metadata": {},
   "source": [
    "# Lista de exercícios #1\n",
    "\n",
    "**Exercício 1**: Considere o algoritmo a seguir, que procura por um inteiro `i` no vetor de inteiros `lista` e retorna `TRUE`, se encontrar, ou `FALSE`, em caso contrário.\n",
    "\n",
    "```java\n",
    "n = tamanho(lista)\n",
    "for(j = 0; j < n; j++) {\n",
    "    if (lista[j] == i) {\n",
    "        return true;\n",
    "    }\n",
    "}\n",
    "return false;\n",
    "```\n",
    "\n",
    "Determine:\n",
    "1. a operação fundamental;\n",
    "2. o valor de $desempenho(a, 1)$;\n",
    "3. a complexidade média $avalia_M(a, 20)$; e\n",
    "3. a complexidade pessimista $avalia_P(a, 10)$.\n",
    "\n",
    "**Exercício 2**: Faça uma pesquisa sobre algoritmos de ordenação e, para um algoritmo de sua escolha, apresente:\n",
    "- o funcionamento do algoritmo;\n",
    "- informações sobre a sua complexidade; e\n",
    "- exemplo de funcionamento do algoritmo para pelo menos duas entradas de tamanhos diferentes;\n",
    "\n",
    "**Exercício 3**: Para cada um dos seguintes pares de funções $f()$ e $g()$, verifique se é possível encontrar uma constante $n_0$ de modo que $g(n)$ seja CAS para $f(n)$:\n",
    "\n",
    "1. $5n+7$, $3n^2+1$\n",
    "2. $2^n$, $3^{n+1}$\n",
    "\n",
    "**Exercício 4**: Apresente um algoritmo cuja ordem de complexidade seja $O(1)$. Obs.: o algoritmo pode ser criado por você ou um algoritmo existente.\n",
    "\n",
    "**Exercício 5**: Apresente um algoritmo cuja ordem de complexidade seja $\\Theta(1)$. Obs.: o algoritmo pode ser criado por você ou um algoritmo existente.\n",
    "\n",
    "**Exercício 6**: Considere a seguinte situação: um algoritmo deve receber como entrada 10 números inteiros, correspondentes a idades de pessoas (em anos); sobre esta entrada, o algoritmo deve calcular a menor idade, a maior idade e a média das idades. Apresente o algoritmo e sua complexidade. Obs.: a resposta válida não deve conter apenas a ordem de complexidade final, mas linha por linha -- ou blobo por bloco, conforme for o caso.\n",
    "\n",
    "**Exercício 7**: Considere o algoritmo `le-e-imprime` a seguir, que utiliza as funções:\n",
    "- `leCaracter()`, que lê uma tecla pressionada do teclado e cuja complexidade é de ordem $O(1)$\n",
    "- `imprimeCaracteres(s)`, que recebe como parâmetro uma lista (vetor) de caracteres `s`, sem tamanho limitado, cuja ordem de complexidade para imprimir cada caractere é $\\Theta(1)$\n",
    "- `inicializaListaDeCaracteres()`, que inicializa uma lista (vetor) de caracteres sem tamanho limitado, cuja ordem de complexidade é $\\Theta(1)$\n",
    "- `insereNaLista(c, s)`, que insere o caractere `c` no final da lista `s`, cuja ordem de complexidade é $O(1)$.\n",
    "\n",
    "```java\n",
    "algoritmo le-e-imprime\n",
    "\n",
    "s = inicializaListaDeCaracteres()\n",
    "faça\n",
    "    c = leCaracter()\n",
    "    insereNaLista(c, s)\n",
    "enquanto c != ENTER\n",
    "\n",
    "imprimeCaracteres(s)\n",
    "```\n",
    "\n",
    "Determine a ordem de complexidade deste algoritmo. Obs.: a resposta válida não deve conter apenas a ordem de complexidade final, mas linha por linha -- ou blobo por bloco, conforme for o caso.\n",
    "\n",
    "**Exercício 8**: Considere as operações de inserção e remoção de elementos de uma estrutura de dados do tipo *pilha*. Qual a ordem de complexidade destas operações? Justifique sua resposta."
   ]
  }
 ],
 "metadata": {
  "kernelspec": {
   "display_name": "Python 2",
   "language": "python",
   "name": "python2"
  },
  "language_info": {
   "codemirror_mode": {
    "name": "ipython",
    "version": 2
   },
   "file_extension": ".py",
   "mimetype": "text/x-python",
   "name": "python",
   "nbconvert_exporter": "python",
   "pygments_lexer": "ipython2",
   "version": "2.7.8"
  }
 },
 "nbformat": 4,
 "nbformat_minor": 0
}
